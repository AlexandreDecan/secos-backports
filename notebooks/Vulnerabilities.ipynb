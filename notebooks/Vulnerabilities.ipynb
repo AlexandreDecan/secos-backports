{
 "cells": [
  {
   "cell_type": "markdown",
   "metadata": {},
   "source": [
    "This notebook aims to study the vulnerabilities and how their fixes relate to backported updates. \n",
    "\n",
    "The data we relied on are subject to a non-disclosure agreement. That means we are not allowed to share these data, so you'll have to trust us ;)"
   ]
  },
  {
   "cell_type": "code",
   "execution_count": 2,
   "metadata": {},
   "outputs": [],
   "source": [
    "import pandas\n",
    "import numpy as np\n",
    "import matplotlib\n",
    "import seaborn\n",
    "\n",
    "from IPython.display import display\n",
    "\n",
    "%matplotlib inline"
   ]
  },
  {
   "cell_type": "code",
   "execution_count": 3,
   "metadata": {},
   "outputs": [],
   "source": [
    "FIG_SIZE = (6, 3)\n",
    "FIG_SIZE_WIDE = (8, 2.5)\n",
    "\n",
    "ECOSYSTEMS = ['NPM', 'Rubygems']\n",
    "DATE_RANGE = pandas.to_datetime('2015-01-01'), pandas.to_datetime('2020-01-01')\n",
    "CENSOR_DATE = pandas.to_datetime('2020-01-12')\n",
    "\n",
    "PALETTE = seaborn.color_palette()\n",
    "PAL_REL = np.take(seaborn.color_palette('muted'), [3, 8, 2, 0], axis=0)\n",
    "COLORS = {'NPM': PALETTE[1], 'Rubygems': PALETTE[3]}\n",
    "\n",
    "matplotlib.rcParams['figure.figsize'] = FIG_SIZE\n",
    "matplotlib.rcParams['legend.framealpha'] = 1\n",
    "matplotlib.rcParams['text.latex.preamble'] = r'\\usepackage{amsmath}'\n",
    "\n",
    "SEED = 12345\n",
    "SAVEFIG = False\n",
    "\n",
    "def _savefig(fig, name):\n",
    "    import os\n",
    "    fig.savefig(\n",
    "        os.path.join('..', 'figures', '{}.pdf'.format(name)),\n",
    "        bbox_inches='tight'\n",
    "    )\n",
    "    \n",
    "savefig = _savefig if SAVEFIG else lambda x, y: None"
   ]
  },
  {
   "cell_type": "markdown",
   "metadata": {},
   "source": [
    "# Dataset"
   ]
  },
  {
   "cell_type": "code",
   "execution_count": 5,
   "metadata": {},
   "outputs": [],
   "source": [
    "df_vuln = (\n",
    "    pandas.read_csv('../data-raw/all_vulnerabilities.csv', index_col=0, infer_datetime_format=True, parse_dates=['published', 'disclosed'])\n",
    "    .rename(columns={\n",
    "        'Id': 'id',\n",
    "        'vuln_name': 'vulnerability', \n",
    "        'base': 'ecosystem', \n",
    "        'cvssScore': 'score',\n",
    "        'fixedIn': 'fix', \n",
    "        'affecting': 'affect',\n",
    "    })\n",
    "    .replace({'ecosystem': {'npm': 'NPM', 'RubyGems': 'Rubygems'}})\n",
    ")\n",
    "\n"
   ]
  },
  {
   "cell_type": "code",
   "execution_count": 6,
   "metadata": {},
   "outputs": [
    {
     "name": "stdout",
     "output_type": "stream",
     "text": [
      "2874\n"
     ]
    },
    {
     "data": {
      "text/html": [
       "<div>\n",
       "<style scoped>\n",
       "    .dataframe tbody tr th:only-of-type {\n",
       "        vertical-align: middle;\n",
       "    }\n",
       "\n",
       "    .dataframe tbody tr th {\n",
       "        vertical-align: top;\n",
       "    }\n",
       "\n",
       "    .dataframe thead th {\n",
       "        text-align: right;\n",
       "    }\n",
       "</style>\n",
       "<table border=\"1\" class=\"dataframe\">\n",
       "  <thead>\n",
       "    <tr style=\"text-align: right;\">\n",
       "      <th></th>\n",
       "      <th>id</th>\n",
       "    </tr>\n",
       "    <tr>\n",
       "      <th>ecosystem</th>\n",
       "      <th></th>\n",
       "    </tr>\n",
       "  </thead>\n",
       "  <tbody>\n",
       "    <tr>\n",
       "      <th>NPM</th>\n",
       "      <td>2188</td>\n",
       "    </tr>\n",
       "    <tr>\n",
       "      <th>Rubygems</th>\n",
       "      <td>686</td>\n",
       "    </tr>\n",
       "  </tbody>\n",
       "</table>\n",
       "</div>"
      ],
      "text/plain": [
       "             id\n",
       "ecosystem      \n",
       "NPM        2188\n",
       "Rubygems    686"
      ]
     },
     "execution_count": 6,
     "metadata": {},
     "output_type": "execute_result"
    }
   ],
   "source": [
    "print(len(df_vuln[['id','ecosystem']].drop_duplicates()))\n",
    "df_vuln[['id','ecosystem']].drop_duplicates().groupby('ecosystem').count()"
   ]
  },
  {
   "cell_type": "code",
   "execution_count": 7,
   "metadata": {},
   "outputs": [
    {
     "name": "stdout",
     "output_type": "stream",
     "text": [
      "2034\n"
     ]
    },
    {
     "data": {
      "text/html": [
       "<div>\n",
       "<style scoped>\n",
       "    .dataframe tbody tr th:only-of-type {\n",
       "        vertical-align: middle;\n",
       "    }\n",
       "\n",
       "    .dataframe tbody tr th {\n",
       "        vertical-align: top;\n",
       "    }\n",
       "\n",
       "    .dataframe thead th {\n",
       "        text-align: right;\n",
       "    }\n",
       "</style>\n",
       "<table border=\"1\" class=\"dataframe\">\n",
       "  <thead>\n",
       "    <tr style=\"text-align: right;\">\n",
       "      <th></th>\n",
       "      <th>package</th>\n",
       "    </tr>\n",
       "    <tr>\n",
       "      <th>ecosystem</th>\n",
       "      <th></th>\n",
       "    </tr>\n",
       "  </thead>\n",
       "  <tbody>\n",
       "    <tr>\n",
       "      <th>NPM</th>\n",
       "      <td>1700</td>\n",
       "    </tr>\n",
       "    <tr>\n",
       "      <th>Rubygems</th>\n",
       "      <td>334</td>\n",
       "    </tr>\n",
       "  </tbody>\n",
       "</table>\n",
       "</div>"
      ],
      "text/plain": [
       "           package\n",
       "ecosystem         \n",
       "NPM           1700\n",
       "Rubygems       334"
      ]
     },
     "execution_count": 7,
     "metadata": {},
     "output_type": "execute_result"
    }
   ],
   "source": [
    "print(len(df_vuln[['package','ecosystem']].drop_duplicates()))\n",
    "df_vuln[['package','ecosystem']].drop_duplicates().groupby('ecosystem').count()"
   ]
  },
  {
   "cell_type": "markdown",
   "metadata": {},
   "source": [
    "## Data selection"
   ]
  },
  {
   "cell_type": "markdown",
   "metadata": {},
   "source": [
    "Not all vulnerabilities are of interest for our work. \n",
    "First, only the ones affecting one of the packages we considered are useful. Second, only the ones that are fixed are interesting to study (indeed, there is no hope to find a backported fix if there is no fix!). "
   ]
  },
  {
   "cell_type": "code",
   "execution_count": 8,
   "metadata": {},
   "outputs": [
    {
     "name": "stdout",
     "output_type": "stream",
     "text": [
      "Loading NPM\n",
      ".. required packages\n",
      ".. dependent packages\n",
      "Loading Rubygems\n",
      ".. required packages\n",
      ".. dependent packages\n",
      "Merging...\n",
      "Done!\n"
     ]
    }
   ],
   "source": [
    "df_required = dict()\n",
    "df_dependents = dict()\n",
    "\n",
    "for ecosystem in ECOSYSTEMS:\n",
    "    print('Loading', ecosystem)\n",
    "    print('.. required packages')\n",
    "    df_required[ecosystem] = (\n",
    "        pandas.read_csv(\n",
    "            '../data/{}-required.csv.gz'.format(ecosystem),\n",
    "            parse_dates=['date'],\n",
    "            infer_datetime_format=True,\n",
    "        )\n",
    "    )\n",
    "    \n",
    "    print('.. dependent packages')\n",
    "    df_dependents[ecosystem] = (\n",
    "        pandas.read_csv(\n",
    "            '../data/{}-dependents.csv.gz'.format(ecosystem),\n",
    "        )\n",
    "    )\n",
    "print('Merging...')\n",
    "\n",
    "df_required = pandas.concat([v.assign(ecosystem=k) for k,v in df_required.items()])\n",
    "df_dependents = pandas.concat([v.assign(ecosystem=k) for k,v in df_dependents.items()])\n",
    "\n",
    "print('Done!')"
   ]
  },
  {
   "cell_type": "code",
   "execution_count": 9,
   "metadata": {},
   "outputs": [],
   "source": [
    "df_vuln = (\n",
    "    df_vuln\n",
    "    .merge(\n",
    "        df_required[['ecosystem', 'package']]\n",
    "        .drop_duplicates()\n",
    "        .assign(required=True),\n",
    "        how='left',\n",
    "        on=['ecosystem', 'package'],\n",
    "    )\n",
    "    .fillna({'required': False})\n",
    "    .assign(fixed=lambda d: ~d['fix'].isin(['undefined']))\n",
    ")"
   ]
  },
  {
   "cell_type": "code",
   "execution_count": 10,
   "metadata": {},
   "outputs": [
    {
     "data": {
      "text/html": [
       "<div>\n",
       "<style scoped>\n",
       "    .dataframe tbody tr th:only-of-type {\n",
       "        vertical-align: middle;\n",
       "    }\n",
       "\n",
       "    .dataframe tbody tr th {\n",
       "        vertical-align: top;\n",
       "    }\n",
       "\n",
       "    .dataframe thead th {\n",
       "        text-align: right;\n",
       "    }\n",
       "</style>\n",
       "<table border=\"1\" class=\"dataframe\">\n",
       "  <thead>\n",
       "    <tr style=\"text-align: right;\">\n",
       "      <th></th>\n",
       "      <th></th>\n",
       "      <th></th>\n",
       "      <th>vulnerability</th>\n",
       "    </tr>\n",
       "    <tr>\n",
       "      <th>ecosystem</th>\n",
       "      <th>required</th>\n",
       "      <th>fixed</th>\n",
       "      <th></th>\n",
       "    </tr>\n",
       "  </thead>\n",
       "  <tbody>\n",
       "    <tr>\n",
       "      <th rowspan=\"4\" valign=\"top\">NPM</th>\n",
       "      <th rowspan=\"2\" valign=\"top\">False</th>\n",
       "      <th>False</th>\n",
       "      <td>1022</td>\n",
       "    </tr>\n",
       "    <tr>\n",
       "      <th>True</th>\n",
       "      <td>505</td>\n",
       "    </tr>\n",
       "    <tr>\n",
       "      <th rowspan=\"2\" valign=\"top\">True</th>\n",
       "      <th>False</th>\n",
       "      <td>47</td>\n",
       "    </tr>\n",
       "    <tr>\n",
       "      <th>True</th>\n",
       "      <td>614</td>\n",
       "    </tr>\n",
       "    <tr>\n",
       "      <th rowspan=\"4\" valign=\"top\">Rubygems</th>\n",
       "      <th rowspan=\"2\" valign=\"top\">False</th>\n",
       "      <th>False</th>\n",
       "      <td>110</td>\n",
       "    </tr>\n",
       "    <tr>\n",
       "      <th>True</th>\n",
       "      <td>247</td>\n",
       "    </tr>\n",
       "    <tr>\n",
       "      <th rowspan=\"2\" valign=\"top\">True</th>\n",
       "      <th>False</th>\n",
       "      <td>14</td>\n",
       "    </tr>\n",
       "    <tr>\n",
       "      <th>True</th>\n",
       "      <td>315</td>\n",
       "    </tr>\n",
       "  </tbody>\n",
       "</table>\n",
       "</div>"
      ],
      "text/plain": [
       "                          vulnerability\n",
       "ecosystem required fixed               \n",
       "NPM       False    False           1022\n",
       "                   True             505\n",
       "          True     False             47\n",
       "                   True             614\n",
       "Rubygems  False    False            110\n",
       "                   True             247\n",
       "          True     False             14\n",
       "                   True             315"
      ]
     },
     "execution_count": 10,
     "metadata": {},
     "output_type": "execute_result"
    }
   ],
   "source": [
    "(\n",
    "    df_vuln\n",
    "    .groupby(['ecosystem', 'required', 'fixed'])\n",
    "    .agg({'vulnerability': 'count'})\n",
    ")"
   ]
  },
  {
   "cell_type": "markdown",
   "metadata": {},
   "source": [
    "### We'll focus on the ones being \"required\" and \"fixed\". "
   ]
  },
  {
   "cell_type": "code",
   "execution_count": 11,
   "metadata": {},
   "outputs": [],
   "source": [
    "df_vuln = df_vuln.query('required and fixed')"
   ]
  },
  {
   "cell_type": "code",
   "execution_count": 12,
   "metadata": {},
   "outputs": [
    {
     "data": {
      "text/plain": [
       "(929, 412)"
      ]
     },
     "execution_count": 12,
     "metadata": {},
     "output_type": "execute_result"
    }
   ],
   "source": [
    "df_vuln.id.unique().size, df_vuln.package.unique().size"
   ]
  },
  {
   "cell_type": "code",
   "execution_count": 13,
   "metadata": {},
   "outputs": [
    {
     "data": {
      "text/html": [
       "<div>\n",
       "<style scoped>\n",
       "    .dataframe tbody tr th:only-of-type {\n",
       "        vertical-align: middle;\n",
       "    }\n",
       "\n",
       "    .dataframe tbody tr th {\n",
       "        vertical-align: top;\n",
       "    }\n",
       "\n",
       "    .dataframe thead th {\n",
       "        text-align: right;\n",
       "    }\n",
       "</style>\n",
       "<table border=\"1\" class=\"dataframe\">\n",
       "  <thead>\n",
       "    <tr style=\"text-align: right;\">\n",
       "      <th></th>\n",
       "      <th>id</th>\n",
       "    </tr>\n",
       "    <tr>\n",
       "      <th>ecosystem</th>\n",
       "      <th></th>\n",
       "    </tr>\n",
       "  </thead>\n",
       "  <tbody>\n",
       "    <tr>\n",
       "      <th>NPM</th>\n",
       "      <td>614</td>\n",
       "    </tr>\n",
       "    <tr>\n",
       "      <th>Rubygems</th>\n",
       "      <td>315</td>\n",
       "    </tr>\n",
       "  </tbody>\n",
       "</table>\n",
       "</div>"
      ],
      "text/plain": [
       "            id\n",
       "ecosystem     \n",
       "NPM        614\n",
       "Rubygems   315"
      ]
     },
     "execution_count": 13,
     "metadata": {},
     "output_type": "execute_result"
    }
   ],
   "source": [
    "df_vuln[['id','ecosystem']].drop_duplicates().groupby('ecosystem').count()"
   ]
  },
  {
   "cell_type": "code",
   "execution_count": 14,
   "metadata": {},
   "outputs": [
    {
     "data": {
      "text/html": [
       "<div>\n",
       "<style scoped>\n",
       "    .dataframe tbody tr th:only-of-type {\n",
       "        vertical-align: middle;\n",
       "    }\n",
       "\n",
       "    .dataframe tbody tr th {\n",
       "        vertical-align: top;\n",
       "    }\n",
       "\n",
       "    .dataframe thead th {\n",
       "        text-align: right;\n",
       "    }\n",
       "</style>\n",
       "<table border=\"1\" class=\"dataframe\">\n",
       "  <thead>\n",
       "    <tr style=\"text-align: right;\">\n",
       "      <th></th>\n",
       "      <th>package</th>\n",
       "    </tr>\n",
       "    <tr>\n",
       "      <th>ecosystem</th>\n",
       "      <th></th>\n",
       "    </tr>\n",
       "  </thead>\n",
       "  <tbody>\n",
       "    <tr>\n",
       "      <th>NPM</th>\n",
       "      <td>317</td>\n",
       "    </tr>\n",
       "    <tr>\n",
       "      <th>Rubygems</th>\n",
       "      <td>97</td>\n",
       "    </tr>\n",
       "  </tbody>\n",
       "</table>\n",
       "</div>"
      ],
      "text/plain": [
       "           package\n",
       "ecosystem         \n",
       "NPM            317\n",
       "Rubygems        97"
      ]
     },
     "execution_count": 14,
     "metadata": {},
     "output_type": "execute_result"
    }
   ],
   "source": [
    "df_vuln[['package','ecosystem']].drop_duplicates().groupby('ecosystem').count()"
   ]
  },
  {
   "cell_type": "markdown",
   "metadata": {},
   "source": [
    "## Preprocessing"
   ]
  },
  {
   "cell_type": "markdown",
   "metadata": {},
   "source": [
    "The dataset contains expressions to capture which versions are affected, and in which versions a vulnerability was fixed. \n",
    "We'll parse these expressions to convert them to intervals, so we can manipulate them more easily. \n",
    "The notation used is close to the one of Packagist, so we'll use our Packagist parser."
   ]
  },
  {
   "cell_type": "code",
   "execution_count": 15,
   "metadata": {},
   "outputs": [],
   "source": [
    "import sys\n",
    "\n",
    "sys.path.append('../data')\n",
    "\n",
    "from parsers import parse_or_empty, PackagistParser\n",
    "from version import Version\n",
    "\n",
    "parser = PackagistParser()\n",
    "\n",
    "intervals = dict()\n",
    "\n",
    "for expr in df_vuln.affect.drop_duplicates():\n",
    "    intervals[expr] = parse_or_empty(parser, expr)\n",
    "    \n",
    "for expr in df_vuln.fix.drop_duplicates():\n",
    "    intervals[expr] = parse_or_empty(parser, expr)"
   ]
  },
  {
   "cell_type": "markdown",
   "metadata": {},
   "source": [
    "#### How many expressions did we successfully convert?"
   ]
  },
  {
   "cell_type": "code",
   "execution_count": 16,
   "metadata": {},
   "outputs": [
    {
     "name": "stdout",
     "output_type": "stream",
     "text": [
      "expressions: 1311\n",
      "converted to non-empty: 1301\n",
      "proportion: 0.992372234935164\n",
      "\n",
      "converted to empty: 10\n",
      ">=3.0.0-alpha.1 <3.0.0\n",
      ">=10.0.0-alpha.0 <10.0.0-beta.1\n",
      ">=3.0.0-rc1 <3.0.0\n",
      ">=2.0.0-alpha <2.0.0-alpha8\n",
      "<0.0.0\n",
      ">=4.0.0-alpha, <4.0.0-beta.2\n",
      ">=5.2.2, <5.2.2.1\n",
      ">=4.2.11, <4.2.11.1||>=5.0.7, <5.0.7.2||>=5.1.6, <5.1.6.2||>=5.2.2, <5.2.2.1\n",
      "< 1.1.rc\n",
      "1.1.rc\n"
     ]
    }
   ],
   "source": [
    "print('expressions:', len(intervals))\n",
    "print('converted to non-empty:', len([k for k,v in intervals.items() if not v.empty]))\n",
    "print('proportion:', len([k for k,v in intervals.items() if not v.empty]) / len(intervals))\n",
    "\n",
    "print()\n",
    "\n",
    "print('converted to empty:', len([k for k,v in intervals.items() if v.empty]))\n",
    "print('\\n'.join([k for k,v in intervals.items() if v.empty]))"
   ]
  },
  {
   "cell_type": "markdown",
   "metadata": {},
   "source": [
    "#### We label each release as being \"affected\" or not."
   ]
  },
  {
   "cell_type": "code",
   "execution_count": 17,
   "metadata": {},
   "outputs": [],
   "source": [
    "df_affected = (\n",
    "    df_required\n",
    "    .merge(\n",
    "        df_vuln[['id', 'ecosystem', 'package', 'affect', 'fix']],\n",
    "        how='inner',\n",
    "        on=['ecosystem', 'package'],\n",
    "    )\n",
    "    # Ignore those for which we cannot deduce a fixed or affected release\n",
    "    [lambda d: ~d['affect'].isin([k for k,v in intervals.items() if v.empty])]\n",
    "    [lambda d: ~d['fix'].isin([k for k,v in intervals.items() if v.empty])]\n",
    "    # Tag releases as fixed or affected\n",
    "    .assign(affected=lambda d: \n",
    "        d.apply(axis=1, func=lambda s: \n",
    "            Version.from_string(s.version) in intervals[s.affect],\n",
    "        )\n",
    "    )\n",
    "    .assign(fixed=lambda d: \n",
    "        d.apply(axis=1, func=lambda s: \n",
    "            Version.from_string(s.version) in intervals[s.fix],\n",
    "        )\n",
    "    )\n",
    ")"
   ]
  },
  {
   "cell_type": "code",
   "execution_count": 18,
   "metadata": {},
   "outputs": [],
   "source": [
    "#only focus on fixed vulnerabilities \n",
    "df_affected = df_affected[df_affected.id.isin(df_affected.query('fixed').id)]\n",
    "\n",
    "#only focus on those with affected releases\n",
    "df_affected = df_affected[df_affected.id.isin(df_affected.query('affected').id)]"
   ]
  },
  {
   "cell_type": "code",
   "execution_count": 19,
   "metadata": {},
   "outputs": [
    {
     "name": "stdout",
     "output_type": "stream",
     "text": [
      "number of vulnerabilities 834\n",
      "number of fixed vulnerabilities 834\n",
      "number of affected packages 383\n"
     ]
    }
   ],
   "source": [
    "print('number of vulnerabilities',df_affected.id.unique().size)\n",
    "print('number of fixed vulnerabilities', df_affected.query('fixed').id.unique().size)\n",
    "print('number of affected packages', len(df_affected.query('affected')[['ecosystem','package']].drop_duplicates()))"
   ]
  },
  {
   "cell_type": "code",
   "execution_count": 20,
   "metadata": {},
   "outputs": [
    {
     "data": {
      "text/html": [
       "<div>\n",
       "<style scoped>\n",
       "    .dataframe tbody tr th:only-of-type {\n",
       "        vertical-align: middle;\n",
       "    }\n",
       "\n",
       "    .dataframe tbody tr th {\n",
       "        vertical-align: top;\n",
       "    }\n",
       "\n",
       "    .dataframe thead th {\n",
       "        text-align: right;\n",
       "    }\n",
       "</style>\n",
       "<table border=\"1\" class=\"dataframe\">\n",
       "  <thead>\n",
       "    <tr style=\"text-align: right;\">\n",
       "      <th></th>\n",
       "      <th>package</th>\n",
       "    </tr>\n",
       "    <tr>\n",
       "      <th>ecosystem</th>\n",
       "      <th></th>\n",
       "    </tr>\n",
       "  </thead>\n",
       "  <tbody>\n",
       "    <tr>\n",
       "      <th>NPM</th>\n",
       "      <td>292</td>\n",
       "    </tr>\n",
       "    <tr>\n",
       "      <th>Rubygems</th>\n",
       "      <td>91</td>\n",
       "    </tr>\n",
       "  </tbody>\n",
       "</table>\n",
       "</div>"
      ],
      "text/plain": [
       "           package\n",
       "ecosystem         \n",
       "NPM            292\n",
       "Rubygems        91"
      ]
     },
     "execution_count": 20,
     "metadata": {},
     "output_type": "execute_result"
    }
   ],
   "source": [
    "# Number of affected packages\n",
    "(df_affected[['ecosystem','package']]\n",
    " .drop_duplicates()\n",
    " .groupby('ecosystem')\n",
    " .count())"
   ]
  },
  {
   "cell_type": "code",
   "execution_count": 21,
   "metadata": {},
   "outputs": [
    {
     "data": {
      "text/html": [
       "<div>\n",
       "<style scoped>\n",
       "    .dataframe tbody tr th:only-of-type {\n",
       "        vertical-align: middle;\n",
       "    }\n",
       "\n",
       "    .dataframe tbody tr th {\n",
       "        vertical-align: top;\n",
       "    }\n",
       "\n",
       "    .dataframe thead th {\n",
       "        text-align: right;\n",
       "    }\n",
       "</style>\n",
       "<table border=\"1\" class=\"dataframe\">\n",
       "  <thead>\n",
       "    <tr style=\"text-align: right;\">\n",
       "      <th></th>\n",
       "      <th>id</th>\n",
       "    </tr>\n",
       "    <tr>\n",
       "      <th>ecosystem</th>\n",
       "      <th></th>\n",
       "    </tr>\n",
       "  </thead>\n",
       "  <tbody>\n",
       "    <tr>\n",
       "      <th>NPM</th>\n",
       "      <td>541</td>\n",
       "    </tr>\n",
       "    <tr>\n",
       "      <th>Rubygems</th>\n",
       "      <td>293</td>\n",
       "    </tr>\n",
       "  </tbody>\n",
       "</table>\n",
       "</div>"
      ],
      "text/plain": [
       "            id\n",
       "ecosystem     \n",
       "NPM        541\n",
       "Rubygems   293"
      ]
     },
     "execution_count": 21,
     "metadata": {},
     "output_type": "execute_result"
    }
   ],
   "source": [
    "# Number of affecting vulnerabilities\n",
    "(df_affected[['ecosystem','id']]\n",
    " .drop_duplicates()\n",
    " .groupby('ecosystem')\n",
    " .count())"
   ]
  },
  {
   "cell_type": "code",
   "execution_count": 22,
   "metadata": {},
   "outputs": [
    {
     "data": {
      "text/plain": [
       "('number of unique package releases', 29498)"
      ]
     },
     "execution_count": 22,
     "metadata": {},
     "output_type": "execute_result"
    }
   ],
   "source": [
    "'number of unique package releases', len(df_affected[['package','version','ecosystem']].drop_duplicates())"
   ]
  },
  {
   "cell_type": "code",
   "execution_count": 23,
   "metadata": {},
   "outputs": [
    {
     "data": {
      "text/plain": [
       "('number of unique major releases', 1449)"
      ]
     },
     "execution_count": 23,
     "metadata": {},
     "output_type": "execute_result"
    }
   ],
   "source": [
    "'number of unique major releases', len(df_affected[['package','major','ecosystem']].drop_duplicates())"
   ]
  },
  {
   "cell_type": "code",
   "execution_count": 24,
   "metadata": {},
   "outputs": [
    {
     "data": {
      "text/html": [
       "<div>\n",
       "<style scoped>\n",
       "    .dataframe tbody tr th:only-of-type {\n",
       "        vertical-align: middle;\n",
       "    }\n",
       "\n",
       "    .dataframe tbody tr th {\n",
       "        vertical-align: top;\n",
       "    }\n",
       "\n",
       "    .dataframe thead th {\n",
       "        text-align: right;\n",
       "    }\n",
       "</style>\n",
       "<table border=\"1\" class=\"dataframe\">\n",
       "  <thead>\n",
       "    <tr style=\"text-align: right;\">\n",
       "      <th></th>\n",
       "      <th>version</th>\n",
       "    </tr>\n",
       "    <tr>\n",
       "      <th>affected</th>\n",
       "      <th></th>\n",
       "    </tr>\n",
       "  </thead>\n",
       "  <tbody>\n",
       "    <tr>\n",
       "      <th>False</th>\n",
       "      <td>0.294935</td>\n",
       "    </tr>\n",
       "    <tr>\n",
       "      <th>True</th>\n",
       "      <td>0.705065</td>\n",
       "    </tr>\n",
       "  </tbody>\n",
       "</table>\n",
       "</div>"
      ],
      "text/plain": [
       "           version\n",
       "affected          \n",
       "False     0.294935\n",
       "True      0.705065"
      ]
     },
     "execution_count": 24,
     "metadata": {},
     "output_type": "execute_result"
    }
   ],
   "source": [
    "# Affected releases\n",
    "(df_affected[['package','version','ecosystem','affected']]\n",
    " .groupby(['package','version','ecosystem'])\n",
    " .agg('max')\n",
    " .reset_index()\n",
    " .groupby(['affected'])\n",
    " .count()[['version']])/len(df_affected[['package','version','ecosystem']].drop_duplicates())\n"
   ]
  },
  {
   "cell_type": "code",
   "execution_count": 25,
   "metadata": {},
   "outputs": [
    {
     "data": {
      "text/html": [
       "<div>\n",
       "<style scoped>\n",
       "    .dataframe tbody tr th:only-of-type {\n",
       "        vertical-align: middle;\n",
       "    }\n",
       "\n",
       "    .dataframe tbody tr th {\n",
       "        vertical-align: top;\n",
       "    }\n",
       "\n",
       "    .dataframe thead th {\n",
       "        text-align: right;\n",
       "    }\n",
       "</style>\n",
       "<table border=\"1\" class=\"dataframe\">\n",
       "  <thead>\n",
       "    <tr style=\"text-align: right;\">\n",
       "      <th></th>\n",
       "      <th></th>\n",
       "      <th>version</th>\n",
       "    </tr>\n",
       "    <tr>\n",
       "      <th>ecosystem</th>\n",
       "      <th>affected</th>\n",
       "      <th></th>\n",
       "    </tr>\n",
       "  </thead>\n",
       "  <tbody>\n",
       "    <tr>\n",
       "      <th rowspan=\"2\" valign=\"top\">NPM</th>\n",
       "      <th>False</th>\n",
       "      <td>0.199302</td>\n",
       "    </tr>\n",
       "    <tr>\n",
       "      <th>True</th>\n",
       "      <td>0.556309</td>\n",
       "    </tr>\n",
       "    <tr>\n",
       "      <th rowspan=\"2\" valign=\"top\">Rubygems</th>\n",
       "      <th>False</th>\n",
       "      <td>0.095634</td>\n",
       "    </tr>\n",
       "    <tr>\n",
       "      <th>True</th>\n",
       "      <td>0.148756</td>\n",
       "    </tr>\n",
       "  </tbody>\n",
       "</table>\n",
       "</div>"
      ],
      "text/plain": [
       "                     version\n",
       "ecosystem affected          \n",
       "NPM       False     0.199302\n",
       "          True      0.556309\n",
       "Rubygems  False     0.095634\n",
       "          True      0.148756"
      ]
     },
     "execution_count": 25,
     "metadata": {},
     "output_type": "execute_result"
    }
   ],
   "source": [
    "# Affected releases by ecosystem\n",
    "(df_affected[['package','version','ecosystem','affected']]\n",
    " .groupby(['package','version','ecosystem'])\n",
    " .agg('max')\n",
    " .reset_index()\n",
    " .groupby(['ecosystem','affected'])\n",
    " .count()[['version']])/len(df_affected[['package','version','ecosystem']].drop_duplicates())\n"
   ]
  },
  {
   "cell_type": "code",
   "execution_count": 26,
   "metadata": {},
   "outputs": [
    {
     "data": {
      "text/html": [
       "<div>\n",
       "<style scoped>\n",
       "    .dataframe tbody tr th:only-of-type {\n",
       "        vertical-align: middle;\n",
       "    }\n",
       "\n",
       "    .dataframe tbody tr th {\n",
       "        vertical-align: top;\n",
       "    }\n",
       "\n",
       "    .dataframe thead th {\n",
       "        text-align: right;\n",
       "    }\n",
       "</style>\n",
       "<table border=\"1\" class=\"dataframe\">\n",
       "  <thead>\n",
       "    <tr style=\"text-align: right;\">\n",
       "      <th></th>\n",
       "      <th>id</th>\n",
       "      <th>package</th>\n",
       "      <th>version</th>\n",
       "      <th>affected</th>\n",
       "    </tr>\n",
       "    <tr>\n",
       "      <th>ecosystem</th>\n",
       "      <th></th>\n",
       "      <th></th>\n",
       "      <th></th>\n",
       "      <th></th>\n",
       "    </tr>\n",
       "  </thead>\n",
       "  <tbody>\n",
       "    <tr>\n",
       "      <th>NPM</th>\n",
       "      <td>541</td>\n",
       "      <td>292</td>\n",
       "      <td>53171</td>\n",
       "      <td>30203</td>\n",
       "    </tr>\n",
       "    <tr>\n",
       "      <th>Rubygems</th>\n",
       "      <td>293</td>\n",
       "      <td>91</td>\n",
       "      <td>33114</td>\n",
       "      <td>13643</td>\n",
       "    </tr>\n",
       "  </tbody>\n",
       "</table>\n",
       "</div>"
      ],
      "text/plain": [
       "            id  package  version  affected\n",
       "ecosystem                                 \n",
       "NPM        541      292    53171     30203\n",
       "Rubygems   293       91    33114     13643"
      ]
     },
     "execution_count": 26,
     "metadata": {},
     "output_type": "execute_result"
    }
   ],
   "source": [
    "(\n",
    "    df_affected\n",
    "    .groupby(['ecosystem'])\n",
    "    .agg({\n",
    "        'id': 'nunique', \n",
    "        'package': 'nunique',\n",
    "        'version': 'count',\n",
    "        'affected': 'sum',\n",
    "    })\n",
    ")"
   ]
  },
  {
   "cell_type": "markdown",
   "metadata": {},
   "source": [
    "## Affected major branches"
   ]
  },
  {
   "cell_type": "markdown",
   "metadata": {},
   "source": [
    "Our focus being on backporting updates in previous major branches, let's annotate, for each major of each package, whether it was affected and fixed.\n",
    "We remove from our dataset all packages for which we do not have any affected or fixed release. "
   ]
  },
  {
   "cell_type": "code",
   "execution_count": 27,
   "metadata": {},
   "outputs": [],
   "source": [
    "df_major = (\n",
    "    df_affected\n",
    "    .groupby(['ecosystem', 'id', 'package', 'major'], as_index=False)\n",
    "    .agg(\n",
    "        affected=('affected', 'max'), \n",
    "        has_fix=('fixed', 'max'), \n",
    "        affect=('affect', 'first'),\n",
    "        minrank=('rank', 'min'),\n",
    "        maxrank=('rank', 'max'),\n",
    "    )\n",
    "    .eval('fixed = affected and has_fix')\n",
    "    .eval('notfixed = affected and not has_fix')\n",
    "    \n",
    "    .groupby(['ecosystem', 'id', 'package'], as_index=False)\n",
    "    .filter(lambda g: g.has_fix.max() & g.affected.max())\n",
    ")"
   ]
  },
  {
   "cell_type": "code",
   "execution_count": 28,
   "metadata": {},
   "outputs": [
    {
     "data": {
      "text/html": [
       "<div>\n",
       "<style scoped>\n",
       "    .dataframe tbody tr th:only-of-type {\n",
       "        vertical-align: middle;\n",
       "    }\n",
       "\n",
       "    .dataframe tbody tr th {\n",
       "        vertical-align: top;\n",
       "    }\n",
       "\n",
       "    .dataframe thead th {\n",
       "        text-align: right;\n",
       "    }\n",
       "</style>\n",
       "<table border=\"1\" class=\"dataframe\">\n",
       "  <thead>\n",
       "    <tr style=\"text-align: right;\">\n",
       "      <th></th>\n",
       "      <th>id</th>\n",
       "      <th>package</th>\n",
       "      <th>major</th>\n",
       "      <th>affected</th>\n",
       "      <th>fixed</th>\n",
       "      <th>has_fix</th>\n",
       "      <th>notfixed</th>\n",
       "    </tr>\n",
       "    <tr>\n",
       "      <th>ecosystem</th>\n",
       "      <th></th>\n",
       "      <th></th>\n",
       "      <th></th>\n",
       "      <th></th>\n",
       "      <th></th>\n",
       "      <th></th>\n",
       "      <th></th>\n",
       "    </tr>\n",
       "  </thead>\n",
       "  <tbody>\n",
       "    <tr>\n",
       "      <th>NPM</th>\n",
       "      <td>541</td>\n",
       "      <td>292</td>\n",
       "      <td>2390</td>\n",
       "      <td>1376</td>\n",
       "      <td>536</td>\n",
       "      <td>591</td>\n",
       "      <td>840</td>\n",
       "    </tr>\n",
       "    <tr>\n",
       "      <th>Rubygems</th>\n",
       "      <td>293</td>\n",
       "      <td>91</td>\n",
       "      <td>1225</td>\n",
       "      <td>650</td>\n",
       "      <td>330</td>\n",
       "      <td>357</td>\n",
       "      <td>320</td>\n",
       "    </tr>\n",
       "  </tbody>\n",
       "</table>\n",
       "</div>"
      ],
      "text/plain": [
       "            id  package  major  affected  fixed  has_fix  notfixed\n",
       "ecosystem                                                         \n",
       "NPM        541      292   2390      1376    536      591       840\n",
       "Rubygems   293       91   1225       650    330      357       320"
      ]
     },
     "execution_count": 28,
     "metadata": {},
     "output_type": "execute_result"
    }
   ],
   "source": [
    "(\n",
    "    df_major\n",
    "    .groupby(['ecosystem'])\n",
    "    .agg({\n",
    "        'id': 'nunique', \n",
    "        'package': 'nunique',\n",
    "        'major': 'count',\n",
    "        'affected': 'sum',\n",
    "        'fixed': 'sum',\n",
    "        'has_fix': 'sum',\n",
    "        'notfixed': 'sum',\n",
    "    })\n",
    ")"
   ]
  },
  {
   "cell_type": "code",
   "execution_count": 29,
   "metadata": {},
   "outputs": [
    {
     "data": {
      "text/html": [
       "<div>\n",
       "<style scoped>\n",
       "    .dataframe tbody tr th:only-of-type {\n",
       "        vertical-align: middle;\n",
       "    }\n",
       "\n",
       "    .dataframe tbody tr th {\n",
       "        vertical-align: top;\n",
       "    }\n",
       "\n",
       "    .dataframe thead th {\n",
       "        text-align: right;\n",
       "    }\n",
       "</style>\n",
       "<table border=\"1\" class=\"dataframe\">\n",
       "  <thead>\n",
       "    <tr style=\"text-align: right;\">\n",
       "      <th></th>\n",
       "      <th>count</th>\n",
       "      <th>mean</th>\n",
       "      <th>std</th>\n",
       "      <th>min</th>\n",
       "      <th>25%</th>\n",
       "      <th>50%</th>\n",
       "      <th>75%</th>\n",
       "      <th>max</th>\n",
       "    </tr>\n",
       "    <tr>\n",
       "      <th>ecosystem</th>\n",
       "      <th></th>\n",
       "      <th></th>\n",
       "      <th></th>\n",
       "      <th></th>\n",
       "      <th></th>\n",
       "      <th></th>\n",
       "      <th></th>\n",
       "      <th></th>\n",
       "    </tr>\n",
       "  </thead>\n",
       "  <tbody>\n",
       "    <tr>\n",
       "      <th>NPM</th>\n",
       "      <td>541.0</td>\n",
       "      <td>2.543438</td>\n",
       "      <td>1.940900</td>\n",
       "      <td>1.0</td>\n",
       "      <td>1.0</td>\n",
       "      <td>2.0</td>\n",
       "      <td>3.0</td>\n",
       "      <td>12.0</td>\n",
       "    </tr>\n",
       "    <tr>\n",
       "      <th>Rubygems</th>\n",
       "      <td>293.0</td>\n",
       "      <td>2.218430</td>\n",
       "      <td>1.224774</td>\n",
       "      <td>1.0</td>\n",
       "      <td>1.0</td>\n",
       "      <td>2.0</td>\n",
       "      <td>3.0</td>\n",
       "      <td>5.0</td>\n",
       "    </tr>\n",
       "  </tbody>\n",
       "</table>\n",
       "</div>"
      ],
      "text/plain": [
       "           count      mean       std  min  25%  50%  75%   max\n",
       "ecosystem                                                     \n",
       "NPM        541.0  2.543438  1.940900  1.0  1.0  2.0  3.0  12.0\n",
       "Rubygems   293.0  2.218430  1.224774  1.0  1.0  2.0  3.0   5.0"
      ]
     },
     "execution_count": 29,
     "metadata": {},
     "output_type": "execute_result"
    }
   ],
   "source": [
    "(df_major\n",
    " .query('affected')[['ecosystem','package','major','id']]\n",
    " .drop_duplicates()\n",
    " .groupby(['ecosystem','package','id'])\n",
    " .count()[['major']]\n",
    " .reset_index()\n",
    " .groupby('ecosystem')['major']\n",
    " .describe()\n",
    ")"
   ]
  },
  {
   "cell_type": "markdown",
   "metadata": {},
   "source": [
    "#### We distinguish between the three following situations: \n",
    "\n",
    " - A major is affected by a vulnerability, and is not fixed (affected = True, fixed = False);\n",
    " - A major is affected by a vulnerability and has a fix deployed (affected = True, fixed = True);\n",
    " - A major is affected by a vulnerability, and a fix is deployed as next major (next major has affected = False, and has_fix = True).\n",
    " \n",
    "So in the above table, the difference between \"fixed\" and \"has_fix\" corresponds to the number of vulnerabilities having been fixed in a major release.\n",
    "\n",
    "The number of backported fixes can be deduced from this dataframe: any vulnerability being fixed in at least two distinct major branches imply at least one backport (the number of major branches being the number of backport + 1). "
   ]
  },
  {
   "cell_type": "code",
   "execution_count": 30,
   "metadata": {},
   "outputs": [
    {
     "data": {
      "text/plain": [
       "3615"
      ]
     },
     "execution_count": 30,
     "metadata": {},
     "output_type": "execute_result"
    }
   ],
   "source": [
    "len(df_major[['id','major']].drop_duplicates())"
   ]
  },
  {
   "cell_type": "code",
   "execution_count": 31,
   "metadata": {},
   "outputs": [
    {
     "name": "stdout",
     "output_type": "stream",
     "text": [
      "3.310077519379845 1.1085271317829457\n",
      "3.0 1.0\n"
     ]
    }
   ],
   "source": [
    "data = (df_major\n",
    "        [['id','affected','fixed']]\n",
    "        .groupby(['id'])\n",
    "        .agg({\n",
    "            'affected':'sum',\n",
    "            'fixed':'sum'\n",
    "        })\n",
    "        .reset_index()\n",
    "        .query('affected>1')\n",
    "        )\n",
    "# Affected majors per vulnerability\n",
    "print(data.affected.mean(), data.fixed.mean())\n",
    "print(data.affected.median(), data.fixed.median())"
   ]
  },
  {
   "cell_type": "code",
   "execution_count": 31,
   "metadata": {},
   "outputs": [
    {
     "data": {
      "text/plain": [
       "[Text(0.5, 6.0, 'number of affected major trains'),\n",
       " Text(33.0, 0.5, 'number of fixed major trains')]"
      ]
     },
     "execution_count": 31,
     "metadata": {},
     "output_type": "execute_result"
    },
    {
     "data": {
      "image/png": "[encoded data removed]",
      "text/plain": [
       "<Figure size 432x216 with 1 Axes>"
      ]
     },
     "metadata": {
      "needs_background": "light"
     },
     "output_type": "display_data"
    }
   ],
   "source": [
    "data = (df_major\n",
    "        [['id','affected','fixed']]\n",
    "        .groupby(['id'])\n",
    "        .agg({\n",
    "            'affected':'sum',\n",
    "            'fixed':'sum'\n",
    "        })\n",
    "        .assign(affected=lambda d: d['affected'].where(d['affected'] < 5, '5+'),\n",
    "             fixed=lambda d: d['fixed'].astype(str).where(d['fixed'] < 4, '4+'))\n",
    "        .reset_index()\n",
    "        .groupby(['affected', 'fixed'], as_index=False)\n",
    "        .agg({'id': 'count'})\n",
    "        .pivot(index='affected', columns='fixed', values='id')\n",
    "        .div(df_major.id.unique().size)\n",
    "        .T\n",
    "        .fillna({4:0.0})\n",
    "        .sort_index(ascending=False)\n",
    "        )\n",
    "\n",
    "fig, ax = matplotlib.pyplot.subplots()\n",
    "\n",
    "seaborn.heatmap(\n",
    "    data=data,\n",
    "    vmin=0, \n",
    "    vmax=0.25, \n",
    "    annot=True,\n",
    "    cmap='Blues',\n",
    "    fmt='.1%',\n",
    "    cbar=False,\n",
    "    cbar_kws={'label': 'proportion of packages'},\n",
    "    ax=ax\n",
    ")\n",
    "\n",
    "ax.set(\n",
    "    xlabel='number of affected major trains',\n",
    "    ylabel='number of fixed major trains',\n",
    ")\n",
    "\n",
    "#savefig(fig, 'affected_fixed_majors')"
   ]
  },
  {
   "cell_type": "code",
   "execution_count": 33,
   "metadata": {},
   "outputs": [],
   "source": [
    "data = (df_major\n",
    "        .assign(fixed = lambda d: d['has_fix'])\n",
    "        [['id','affected','fixed']]\n",
    "        .groupby(['id'])\n",
    "        .agg({\n",
    "            'affected':'sum',\n",
    "            'fixed':'sum'\n",
    "        })\n",
    "        .assign(affected=lambda d: d['affected'].where(d['affected'] < 5, 5),\n",
    "             fixed=lambda d: d['fixed'].where(d['fixed'] < 5, 5))\n",
    "        .reset_index()\n",
    "       )"
   ]
  },
  {
   "cell_type": "markdown",
   "metadata": {},
   "source": [
    "#### Let's check the type of updates having the fixes\n"
   ]
  },
  {
   "cell_type": "code",
   "execution_count": 34,
   "metadata": {},
   "outputs": [
    {
     "data": {
      "text/html": [
       "<div>\n",
       "<style scoped>\n",
       "    .dataframe tbody tr th:only-of-type {\n",
       "        vertical-align: middle;\n",
       "    }\n",
       "\n",
       "    .dataframe tbody tr th {\n",
       "        vertical-align: top;\n",
       "    }\n",
       "\n",
       "    .dataframe thead th {\n",
       "        text-align: right;\n",
       "    }\n",
       "</style>\n",
       "<table border=\"1\" class=\"dataframe\">\n",
       "  <thead>\n",
       "    <tr style=\"text-align: right;\">\n",
       "      <th></th>\n",
       "      <th>id</th>\n",
       "      <th>prop</th>\n",
       "    </tr>\n",
       "    <tr>\n",
       "      <th>kind</th>\n",
       "      <th></th>\n",
       "      <th></th>\n",
       "    </tr>\n",
       "  </thead>\n",
       "  <tbody>\n",
       "    <tr>\n",
       "      <th>minor</th>\n",
       "      <td>62</td>\n",
       "      <td>22.962963</td>\n",
       "    </tr>\n",
       "    <tr>\n",
       "      <th>patch</th>\n",
       "      <td>208</td>\n",
       "      <td>77.037037</td>\n",
       "    </tr>\n",
       "  </tbody>\n",
       "</table>\n",
       "</div>"
      ],
      "text/plain": [
       "        id       prop\n",
       "kind                 \n",
       "minor   62  22.962963\n",
       "patch  208  77.037037"
      ]
     },
     "execution_count": 34,
     "metadata": {},
     "output_type": "execute_result"
    }
   ],
   "source": [
    "(pandas\n",
    " .concat(\n",
    "     [pandas.Series(row['id'], row['fix'].split('||'))\n",
    "      for _, row in df_vuln.iterrows()])\n",
    " .reset_index()\n",
    " .rename(columns={'index':'version',0:'id'})\n",
    " .assign(filtering= lambda d: d['id'].isin(data.query('affected==1').id))\n",
    " .query('filtering')\n",
    " .merge(df_affected[['id','version','kind']],\n",
    "       on = ['id','version'])\n",
    " .groupby('id')\n",
    " .agg({'kind':'min'})\n",
    " .reset_index()\n",
    " .query('kind != \"major\"')\n",
    " .groupby('kind')\n",
    " .count()\n",
    " .assign(prop= lambda d: d['id']*100/d['id'].sum())\n",
    ")"
   ]
  },
  {
   "cell_type": "code",
   "execution_count": 35,
   "metadata": {},
   "outputs": [],
   "source": [
    "# Compute stats\n",
    "df_stats= (\n",
    "    df_major\n",
    "    .groupby(['ecosystem', 'package','id'], as_index=False)\n",
    "    .agg(\n",
    "        number_of_fixes=('has_fix', 'sum'),\n",
    "        number_of_fixed=('fixed', 'sum'),\n",
    "        number_of_affected=('affected', 'sum'),\n",
    "    )\n",
    "    .eval(\"\"\"\n",
    "    fixed_by_next_major = number_of_fixes == 1 and number_of_fixed == 0\n",
    "    fixed_in_current_major = number_of_fixes == 1 and number_of_fixed == 1\n",
    "    fixed_with_backport = number_of_fixes > 1\n",
    "    \"\"\")\n",
    ")"
   ]
  },
  {
   "cell_type": "code",
   "execution_count": 36,
   "metadata": {},
   "outputs": [
    {
     "data": {
      "text/plain": [
       "(834, 94)"
      ]
     },
     "execution_count": 36,
     "metadata": {},
     "output_type": "execute_result"
    }
   ],
   "source": [
    "df_stats.id.unique().size, df_stats.query('number_of_fixes>1').id.unique().size"
   ]
  },
  {
   "cell_type": "code",
   "execution_count": 37,
   "metadata": {},
   "outputs": [
    {
     "data": {
      "text/html": [
       "<style  type=\"text/css\" >\n",
       "#T_5424f058_99e9_11eb_a718_a0a4c5d849bfrow0_col2{\n",
       "            background-color:  #f1ebf5;\n",
       "            color:  #000000;\n",
       "        }#T_5424f058_99e9_11eb_a718_a0a4c5d849bfrow0_col3{\n",
       "            background-color:  #ebe6f2;\n",
       "            color:  #000000;\n",
       "        }#T_5424f058_99e9_11eb_a718_a0a4c5d849bfrow1_col2{\n",
       "            background-color:  #045f95;\n",
       "            color:  #f1f1f1;\n",
       "        }#T_5424f058_99e9_11eb_a718_a0a4c5d849bfrow1_col3{\n",
       "            background-color:  #0569a4;\n",
       "            color:  #f1f1f1;\n",
       "        }#T_5424f058_99e9_11eb_a718_a0a4c5d849bfrow2_col2{\n",
       "            background-color:  #f5eff6;\n",
       "            color:  #000000;\n",
       "        }#T_5424f058_99e9_11eb_a718_a0a4c5d849bfrow2_col3{\n",
       "            background-color:  #f3edf5;\n",
       "            color:  #000000;\n",
       "        }#T_5424f058_99e9_11eb_a718_a0a4c5d849bfrow3_col2{\n",
       "            background-color:  #f8f1f8;\n",
       "            color:  #000000;\n",
       "        }#T_5424f058_99e9_11eb_a718_a0a4c5d849bfrow3_col3{\n",
       "            background-color:  #eee9f3;\n",
       "            color:  #000000;\n",
       "        }#T_5424f058_99e9_11eb_a718_a0a4c5d849bfrow4_col2{\n",
       "            background-color:  #0570b0;\n",
       "            color:  #f1f1f1;\n",
       "        }#T_5424f058_99e9_11eb_a718_a0a4c5d849bfrow4_col3{\n",
       "            background-color:  #0f76b3;\n",
       "            color:  #f1f1f1;\n",
       "        }#T_5424f058_99e9_11eb_a718_a0a4c5d849bfrow5_col2{\n",
       "            background-color:  #dad9ea;\n",
       "            color:  #000000;\n",
       "        }#T_5424f058_99e9_11eb_a718_a0a4c5d849bfrow5_col3{\n",
       "            background-color:  #e4e1ef;\n",
       "            color:  #000000;\n",
       "        }</style><table id=\"T_5424f058_99e9_11eb_a718_a0a4c5d849bf\" ><thead>    <tr>        <th class=\"blank\" ></th>        <th class=\"blank level0\" ></th>        <th class=\"col_heading level0 col0\" >vulnerabilities</th>        <th class=\"col_heading level0 col1\" >packages</th>        <th class=\"col_heading level0 col2\" >prop_vulnerabilities</th>        <th class=\"col_heading level0 col3\" >prop_packages</th>    </tr>    <tr>        <th class=\"index_name level0\" >ecosystem</th>        <th class=\"index_name level1\" >strategy</th>        <th class=\"blank\" ></th>        <th class=\"blank\" ></th>        <th class=\"blank\" ></th>        <th class=\"blank\" ></th>    </tr></thead><tbody>\n",
       "                <tr>\n",
       "                        <th id=\"T_5424f058_99e9_11eb_a718_a0a4c5d849bflevel0_row0\" class=\"row_heading level0 row0\" rowspan=3>NPM</th>\n",
       "                        <th id=\"T_5424f058_99e9_11eb_a718_a0a4c5d849bflevel1_row0\" class=\"row_heading level1 row0\" >fixed_by_next_major</th>\n",
       "                        <td id=\"T_5424f058_99e9_11eb_a718_a0a4c5d849bfrow0_col0\" class=\"data row0 col0\" >50</td>\n",
       "                        <td id=\"T_5424f058_99e9_11eb_a718_a0a4c5d849bfrow0_col1\" class=\"data row0 col1\" >43</td>\n",
       "                        <td id=\"T_5424f058_99e9_11eb_a718_a0a4c5d849bfrow0_col2\" class=\"data row0 col2\" >9.2%</td>\n",
       "                        <td id=\"T_5424f058_99e9_11eb_a718_a0a4c5d849bfrow0_col3\" class=\"data row0 col3\" >13.1%</td>\n",
       "            </tr>\n",
       "            <tr>\n",
       "                                <th id=\"T_5424f058_99e9_11eb_a718_a0a4c5d849bflevel1_row1\" class=\"row_heading level1 row1\" >fixed_in_current_major</th>\n",
       "                        <td id=\"T_5424f058_99e9_11eb_a718_a0a4c5d849bfrow1_col0\" class=\"data row1 col0\" >457</td>\n",
       "                        <td id=\"T_5424f058_99e9_11eb_a718_a0a4c5d849bfrow1_col1\" class=\"data row1 col1\" >259</td>\n",
       "                        <td id=\"T_5424f058_99e9_11eb_a718_a0a4c5d849bfrow1_col2\" class=\"data row1 col2\" >84.5%</td>\n",
       "                        <td id=\"T_5424f058_99e9_11eb_a718_a0a4c5d849bfrow1_col3\" class=\"data row1 col3\" >79.0%</td>\n",
       "            </tr>\n",
       "            <tr>\n",
       "                                <th id=\"T_5424f058_99e9_11eb_a718_a0a4c5d849bflevel1_row2\" class=\"row_heading level1 row2\" >fixed_with_backport</th>\n",
       "                        <td id=\"T_5424f058_99e9_11eb_a718_a0a4c5d849bfrow2_col0\" class=\"data row2 col0\" >34</td>\n",
       "                        <td id=\"T_5424f058_99e9_11eb_a718_a0a4c5d849bfrow2_col1\" class=\"data row2 col1\" >26</td>\n",
       "                        <td id=\"T_5424f058_99e9_11eb_a718_a0a4c5d849bfrow2_col2\" class=\"data row2 col2\" >6.3%</td>\n",
       "                        <td id=\"T_5424f058_99e9_11eb_a718_a0a4c5d849bfrow2_col3\" class=\"data row2 col3\" >7.9%</td>\n",
       "            </tr>\n",
       "            <tr>\n",
       "                        <th id=\"T_5424f058_99e9_11eb_a718_a0a4c5d849bflevel0_row3\" class=\"row_heading level0 row3\" rowspan=3>Rubygems</th>\n",
       "                        <th id=\"T_5424f058_99e9_11eb_a718_a0a4c5d849bflevel1_row3\" class=\"row_heading level1 row3\" >fixed_by_next_major</th>\n",
       "                        <td id=\"T_5424f058_99e9_11eb_a718_a0a4c5d849bfrow3_col0\" class=\"data row3 col0\" >14</td>\n",
       "                        <td id=\"T_5424f058_99e9_11eb_a718_a0a4c5d849bfrow3_col1\" class=\"data row3 col1\" >12</td>\n",
       "                        <td id=\"T_5424f058_99e9_11eb_a718_a0a4c5d849bfrow3_col2\" class=\"data row3 col2\" >4.8%</td>\n",
       "                        <td id=\"T_5424f058_99e9_11eb_a718_a0a4c5d849bfrow3_col3\" class=\"data row3 col3\" >11.3%</td>\n",
       "            </tr>\n",
       "            <tr>\n",
       "                                <th id=\"T_5424f058_99e9_11eb_a718_a0a4c5d849bflevel1_row4\" class=\"row_heading level1 row4\" >fixed_in_current_major</th>\n",
       "                        <td id=\"T_5424f058_99e9_11eb_a718_a0a4c5d849bfrow4_col0\" class=\"data row4 col0\" >219</td>\n",
       "                        <td id=\"T_5424f058_99e9_11eb_a718_a0a4c5d849bfrow4_col1\" class=\"data row4 col1\" >77</td>\n",
       "                        <td id=\"T_5424f058_99e9_11eb_a718_a0a4c5d849bfrow4_col2\" class=\"data row4 col2\" >74.7%</td>\n",
       "                        <td id=\"T_5424f058_99e9_11eb_a718_a0a4c5d849bfrow4_col3\" class=\"data row4 col3\" >72.6%</td>\n",
       "            </tr>\n",
       "            <tr>\n",
       "                                <th id=\"T_5424f058_99e9_11eb_a718_a0a4c5d849bflevel1_row5\" class=\"row_heading level1 row5\" >fixed_with_backport</th>\n",
       "                        <td id=\"T_5424f058_99e9_11eb_a718_a0a4c5d849bfrow5_col0\" class=\"data row5 col0\" >60</td>\n",
       "                        <td id=\"T_5424f058_99e9_11eb_a718_a0a4c5d849bfrow5_col1\" class=\"data row5 col1\" >17</td>\n",
       "                        <td id=\"T_5424f058_99e9_11eb_a718_a0a4c5d849bfrow5_col2\" class=\"data row5 col2\" >20.5%</td>\n",
       "                        <td id=\"T_5424f058_99e9_11eb_a718_a0a4c5d849bfrow5_col3\" class=\"data row5 col3\" >16.0%</td>\n",
       "            </tr>\n",
       "    </tbody></table>"
      ],
      "text/plain": [
       "<pandas.io.formats.style.Styler at 0x7fad6434d978>"
      ]
     },
     "execution_count": 37,
     "metadata": {},
     "output_type": "execute_result"
    }
   ],
   "source": [
    "(\n",
    "    df_stats\n",
    "    .assign(strategy=lambda d: d[['fixed_by_next_major', 'fixed_in_current_major', 'fixed_with_backport']].idxmax(axis=1))\n",
    "    .groupby(['ecosystem', 'strategy'])\n",
    "    .agg(\n",
    "        vulnerabilities=('id', 'nunique'),\n",
    "        packages=('package', 'nunique'), \n",
    "    )\n",
    "    .pipe(lambda df:\n",
    "        pandas.concat([\n",
    "            df, \n",
    "            df\n",
    "            .groupby(['ecosystem'])\n",
    "            .apply(lambda g: g / g.sum())           \n",
    "            .rename(columns=lambda s: 'prop_{}'.format(s))\n",
    "        ], axis=1)\n",
    "    )\n",
    "    .style\n",
    "    .format('{:.1%}', subset=['prop_vulnerabilities', 'prop_packages',])\n",
    "    .background_gradient(vmin=0, vmax=1, subset=['prop_vulnerabilities', 'prop_packages',])\n",
    ")\n"
   ]
  },
  {
   "cell_type": "markdown",
   "metadata": {},
   "source": [
    "## Let's look at the number of fixed/affected branches per package:"
   ]
  },
  {
   "cell_type": "code",
   "execution_count": 38,
   "metadata": {},
   "outputs": [
    {
     "data": {
      "text/html": [
       "<div>\n",
       "<style scoped>\n",
       "    .dataframe tbody tr th:only-of-type {\n",
       "        vertical-align: middle;\n",
       "    }\n",
       "\n",
       "    .dataframe tbody tr th {\n",
       "        vertical-align: top;\n",
       "    }\n",
       "\n",
       "    .dataframe thead tr th {\n",
       "        text-align: left;\n",
       "    }\n",
       "\n",
       "    .dataframe thead tr:last-of-type th {\n",
       "        text-align: right;\n",
       "    }\n",
       "</style>\n",
       "<table border=\"1\" class=\"dataframe\">\n",
       "  <thead>\n",
       "    <tr>\n",
       "      <th></th>\n",
       "      <th colspan=\"2\" halign=\"left\">major</th>\n",
       "      <th colspan=\"2\" halign=\"left\">affected</th>\n",
       "      <th colspan=\"2\" halign=\"left\">fixed</th>\n",
       "      <th colspan=\"2\" halign=\"left\">has_fix</th>\n",
       "      <th colspan=\"2\" halign=\"left\">p_affected</th>\n",
       "      <th colspan=\"2\" halign=\"left\">p_fixed</th>\n",
       "      <th colspan=\"2\" halign=\"left\">p_notfixed</th>\n",
       "    </tr>\n",
       "    <tr>\n",
       "      <th></th>\n",
       "      <th>mean</th>\n",
       "      <th>50%</th>\n",
       "      <th>mean</th>\n",
       "      <th>50%</th>\n",
       "      <th>mean</th>\n",
       "      <th>50%</th>\n",
       "      <th>mean</th>\n",
       "      <th>50%</th>\n",
       "      <th>mean</th>\n",
       "      <th>50%</th>\n",
       "      <th>mean</th>\n",
       "      <th>50%</th>\n",
       "      <th>mean</th>\n",
       "      <th>50%</th>\n",
       "    </tr>\n",
       "    <tr>\n",
       "      <th>ecosystem</th>\n",
       "      <th></th>\n",
       "      <th></th>\n",
       "      <th></th>\n",
       "      <th></th>\n",
       "      <th></th>\n",
       "      <th></th>\n",
       "      <th></th>\n",
       "      <th></th>\n",
       "      <th></th>\n",
       "      <th></th>\n",
       "      <th></th>\n",
       "      <th></th>\n",
       "      <th></th>\n",
       "      <th></th>\n",
       "    </tr>\n",
       "  </thead>\n",
       "  <tbody>\n",
       "    <tr>\n",
       "      <th>NPM</th>\n",
       "      <td>4.417745</td>\n",
       "      <td>3.0</td>\n",
       "      <td>2.543438</td>\n",
       "      <td>2.0</td>\n",
       "      <td>0.990758</td>\n",
       "      <td>1.0</td>\n",
       "      <td>1.092421</td>\n",
       "      <td>1.0</td>\n",
       "      <td>0.722615</td>\n",
       "      <td>0.833333</td>\n",
       "      <td>0.577476</td>\n",
       "      <td>0.5</td>\n",
       "      <td>0.422524</td>\n",
       "      <td>0.5</td>\n",
       "    </tr>\n",
       "    <tr>\n",
       "      <th>Rubygems</th>\n",
       "      <td>4.180887</td>\n",
       "      <td>4.0</td>\n",
       "      <td>2.218430</td>\n",
       "      <td>2.0</td>\n",
       "      <td>1.126280</td>\n",
       "      <td>1.0</td>\n",
       "      <td>1.218430</td>\n",
       "      <td>1.0</td>\n",
       "      <td>0.620795</td>\n",
       "      <td>0.571429</td>\n",
       "      <td>0.634585</td>\n",
       "      <td>0.5</td>\n",
       "      <td>0.365415</td>\n",
       "      <td>0.5</td>\n",
       "    </tr>\n",
       "  </tbody>\n",
       "</table>\n",
       "</div>"
      ],
      "text/plain": [
       "              major       affected          fixed        has_fix       \\\n",
       "               mean  50%      mean  50%      mean  50%      mean  50%   \n",
       "ecosystem                                                               \n",
       "NPM        4.417745  3.0  2.543438  2.0  0.990758  1.0  1.092421  1.0   \n",
       "Rubygems   4.180887  4.0  2.218430  2.0  1.126280  1.0  1.218430  1.0   \n",
       "\n",
       "          p_affected             p_fixed      p_notfixed       \n",
       "                mean       50%      mean  50%       mean  50%  \n",
       "ecosystem                                                      \n",
       "NPM         0.722615  0.833333  0.577476  0.5   0.422524  0.5  \n",
       "Rubygems    0.620795  0.571429  0.634585  0.5   0.365415  0.5  "
      ]
     },
     "execution_count": 38,
     "metadata": {},
     "output_type": "execute_result"
    }
   ],
   "source": [
    "(\n",
    "    df_major\n",
    "    .groupby(['ecosystem', 'id', 'package'], as_index=False)\n",
    "    .agg({\n",
    "        'major': 'count',\n",
    "        'affected': 'sum', \n",
    "        'has_fix': 'sum',\n",
    "        'fixed': 'sum',\n",
    "        'notfixed': 'sum',\n",
    "    })\n",
    "    .eval(\"\"\"\n",
    "    p_affected = affected / major\n",
    "    p_fixed = fixed / affected\n",
    "    p_notfixed = notfixed / affected\n",
    "    \"\"\")\n",
    "    .groupby('ecosystem')\n",
    "    .describe()\n",
    "    [['major', 'affected', 'fixed', 'has_fix', 'p_affected', 'p_fixed', 'p_notfixed']]\n",
    "    .loc[:, (slice(None), ['mean', '50%'])]    \n",
    ")"
   ]
  },
  {
   "cell_type": "markdown",
   "metadata": {},
   "source": [
    "# Affected dependent packages"
   ]
  },
  {
   "cell_type": "markdown",
   "metadata": {},
   "source": [
    "It would be interesting to see how many dependent packages are still affected by each vulnerability. We expect this number to be lower for packages having backported a security fix. \n",
    "However, some vulnerabilities are old(er), and some of them affect (very) old versions, implying that any comparison would be biased. Moreover, some dependent packages could have been abandoned, hence not adopting a newer version (fixed or not) anyway. Finally, we only have the dependencies for the latest snapshot, hence we will simply count the (absolute) number of dependent packages that: \n",
    "\n",
    " - are still relying on an older major branch affected by the vulnerability, and not fixed;\n",
    " - are still relying on an older major branch affected by the vulnerability, and fixed (i.e., they benefit from the backported fix)."
   ]
  },
  {
   "cell_type": "code",
   "execution_count": 39,
   "metadata": {},
   "outputs": [
    {
     "data": {
      "text/plain": [
       "381"
      ]
     },
     "execution_count": 39,
     "metadata": {},
     "output_type": "execute_result"
    }
   ],
   "source": [
    "df_dependents[df_dependents.target.isin(df_major.package)].target.unique().size"
   ]
  },
  {
   "cell_type": "code",
   "execution_count": 40,
   "metadata": {},
   "outputs": [],
   "source": [
    "df_aff_dep = (\n",
    "    df_major\n",
    "    # Get latest major\n",
    "    .merge(\n",
    "        df_major\n",
    "        .groupby(['ecosystem', 'package'], as_index=False)\n",
    "        .agg(latest_major=('major', 'max')),\n",
    "        how='inner',\n",
    "        on=['ecosystem', 'package'],\n",
    "    )\n",
    "    # Get latest fix to identify backports\n",
    "    .merge(\n",
    "        df_major\n",
    "        .query('has_fix')\n",
    "        .groupby(['ecosystem', 'package','id'], as_index=False)\n",
    "        .agg(latest_fixed_major=('major', 'max')),\n",
    "        how='inner', \n",
    "        on=['ecosystem', 'package','id'],\n",
    "    )\n",
    "    # Merge dependents\n",
    "    .merge(\n",
    "        df_dependents[['ecosystem', 'source', 'target', 'selected']],\n",
    "        how='inner',\n",
    "        left_on=['ecosystem', 'package'],\n",
    "        right_on=['ecosystem', 'target'],\n",
    "    )\n",
    "    # Keep selected major\n",
    "    .query('minrank <= selected <= maxrank')\n",
    "    .eval('backported = fixed and latest_fixed_major > major')\n",
    ")"
   ]
  },
  {
   "cell_type": "markdown",
   "metadata": {},
   "source": [
    "### How many packages depend on the vulnerable ones?"
   ]
  },
  {
   "cell_type": "code",
   "execution_count": 41,
   "metadata": {},
   "outputs": [
    {
     "data": {
      "text/html": [
       "<div>\n",
       "<style scoped>\n",
       "    .dataframe tbody tr th:only-of-type {\n",
       "        vertical-align: middle;\n",
       "    }\n",
       "\n",
       "    .dataframe tbody tr th {\n",
       "        vertical-align: top;\n",
       "    }\n",
       "\n",
       "    .dataframe thead th {\n",
       "        text-align: right;\n",
       "    }\n",
       "</style>\n",
       "<table border=\"1\" class=\"dataframe\">\n",
       "  <thead>\n",
       "    <tr style=\"text-align: right;\">\n",
       "      <th></th>\n",
       "      <th>vulnerabilities</th>\n",
       "      <th>required</th>\n",
       "      <th>source</th>\n",
       "      <th>dependencies</th>\n",
       "    </tr>\n",
       "    <tr>\n",
       "      <th>ecosystem</th>\n",
       "      <th></th>\n",
       "      <th></th>\n",
       "      <th></th>\n",
       "      <th></th>\n",
       "    </tr>\n",
       "  </thead>\n",
       "  <tbody>\n",
       "    <tr>\n",
       "      <th>NPM</th>\n",
       "      <td>541</td>\n",
       "      <td>292</td>\n",
       "      <td>108008</td>\n",
       "      <td>513714</td>\n",
       "    </tr>\n",
       "    <tr>\n",
       "      <th>Rubygems</th>\n",
       "      <td>293</td>\n",
       "      <td>91</td>\n",
       "      <td>7234</td>\n",
       "      <td>74786</td>\n",
       "    </tr>\n",
       "  </tbody>\n",
       "</table>\n",
       "</div>"
      ],
      "text/plain": [
       "           vulnerabilities  required  source  dependencies\n",
       "ecosystem                                                 \n",
       "NPM                    541       292  108008        513714\n",
       "Rubygems               293        91    7234         74786"
      ]
     },
     "execution_count": 41,
     "metadata": {},
     "output_type": "execute_result"
    }
   ],
   "source": [
    "(\n",
    "    df_aff_dep\n",
    "    .groupby('ecosystem')\n",
    "    .agg(\n",
    "        vulnerabilities=('id', 'nunique'),\n",
    "        required=('package', 'nunique'), \n",
    "        source=('source', 'nunique'),\n",
    "        dependencies=('source', 'count')\n",
    "    ) \n",
    ")"
   ]
  },
  {
   "cell_type": "code",
   "execution_count": 42,
   "metadata": {},
   "outputs": [
    {
     "data": {
      "text/plain": [
       "292"
      ]
     },
     "execution_count": 42,
     "metadata": {},
     "output_type": "execute_result"
    }
   ],
   "source": [
    "df_aff_dep.query('ecosystem==\"NPM\"').package.unique().size"
   ]
  },
  {
   "cell_type": "code",
   "execution_count": 43,
   "metadata": {},
   "outputs": [
    {
     "data": {
      "text/plain": [
       "834"
      ]
     },
     "execution_count": 43,
     "metadata": {},
     "output_type": "execute_result"
    }
   ],
   "source": [
    "df_aff_dep.id.unique().size"
   ]
  },
  {
   "cell_type": "markdown",
   "metadata": {},
   "source": [
    "### How many packages depend on an affected major branch? \n",
    "\n",
    "Remember that it is not meaningful to look at these numbers proportionally to the above ones!"
   ]
  },
  {
   "cell_type": "code",
   "execution_count": 44,
   "metadata": {},
   "outputs": [
    {
     "data": {
      "text/html": [
       "<div>\n",
       "<style scoped>\n",
       "    .dataframe tbody tr th:only-of-type {\n",
       "        vertical-align: middle;\n",
       "    }\n",
       "\n",
       "    .dataframe tbody tr th {\n",
       "        vertical-align: top;\n",
       "    }\n",
       "\n",
       "    .dataframe thead th {\n",
       "        text-align: right;\n",
       "    }\n",
       "</style>\n",
       "<table border=\"1\" class=\"dataframe\">\n",
       "  <thead>\n",
       "    <tr style=\"text-align: right;\">\n",
       "      <th></th>\n",
       "      <th>vulnerabilities</th>\n",
       "      <th>required</th>\n",
       "      <th>source</th>\n",
       "      <th>dependencies</th>\n",
       "    </tr>\n",
       "    <tr>\n",
       "      <th>ecosystem</th>\n",
       "      <th></th>\n",
       "      <th></th>\n",
       "      <th></th>\n",
       "      <th></th>\n",
       "    </tr>\n",
       "  </thead>\n",
       "  <tbody>\n",
       "    <tr>\n",
       "      <th>NPM</th>\n",
       "      <td>493</td>\n",
       "      <td>271</td>\n",
       "      <td>93725</td>\n",
       "      <td>386005</td>\n",
       "    </tr>\n",
       "    <tr>\n",
       "      <th>Rubygems</th>\n",
       "      <td>222</td>\n",
       "      <td>73</td>\n",
       "      <td>3677</td>\n",
       "      <td>21271</td>\n",
       "    </tr>\n",
       "  </tbody>\n",
       "</table>\n",
       "</div>"
      ],
      "text/plain": [
       "           vulnerabilities  required  source  dependencies\n",
       "ecosystem                                                 \n",
       "NPM                    493       271   93725        386005\n",
       "Rubygems               222        73    3677         21271"
      ]
     },
     "execution_count": 44,
     "metadata": {},
     "output_type": "execute_result"
    }
   ],
   "source": [
    "(\n",
    "    df_aff_dep\n",
    "    .query('affected')\n",
    "    .groupby('ecosystem')\n",
    "    .agg(\n",
    "        vulnerabilities=('id', 'nunique'),\n",
    "        required=('package', 'nunique'), \n",
    "        source=('source', 'nunique'),\n",
    "        dependencies=('source', 'count')\n",
    "    ) \n",
    ")"
   ]
  },
  {
   "cell_type": "markdown",
   "metadata": {},
   "source": [
    "### How many of these packages depend on a previous (affected) major branch? \n",
    "\n",
    "Remember that it is not meaningful to look at these numbers proportionally to the above ones!"
   ]
  },
  {
   "cell_type": "code",
   "execution_count": 45,
   "metadata": {},
   "outputs": [
    {
     "data": {
      "text/plain": [
       "11729"
      ]
     },
     "execution_count": 45,
     "metadata": {},
     "output_type": "execute_result"
    }
   ],
   "source": [
    "len(df_aff_dep.query('affected and major < latest_fixed_major'))"
   ]
  },
  {
   "cell_type": "code",
   "execution_count": 46,
   "metadata": {},
   "outputs": [],
   "source": [
    "df_aff_dep_filter = df_aff_dep.query('affected and major < latest_fixed_major')"
   ]
  },
  {
   "cell_type": "code",
   "execution_count": 47,
   "metadata": {},
   "outputs": [
    {
     "data": {
      "text/html": [
       "<div>\n",
       "<style scoped>\n",
       "    .dataframe tbody tr th:only-of-type {\n",
       "        vertical-align: middle;\n",
       "    }\n",
       "\n",
       "    .dataframe tbody tr th {\n",
       "        vertical-align: top;\n",
       "    }\n",
       "\n",
       "    .dataframe thead th {\n",
       "        text-align: right;\n",
       "    }\n",
       "</style>\n",
       "<table border=\"1\" class=\"dataframe\">\n",
       "  <thead>\n",
       "    <tr style=\"text-align: right;\">\n",
       "      <th></th>\n",
       "      <th>vulnerabilities</th>\n",
       "      <th>required</th>\n",
       "      <th>source</th>\n",
       "      <th>dependencies</th>\n",
       "    </tr>\n",
       "    <tr>\n",
       "      <th>ecosystem</th>\n",
       "      <th></th>\n",
       "      <th></th>\n",
       "      <th></th>\n",
       "      <th></th>\n",
       "    </tr>\n",
       "  </thead>\n",
       "  <tbody>\n",
       "    <tr>\n",
       "      <th>NPM</th>\n",
       "      <td>227</td>\n",
       "      <td>127</td>\n",
       "      <td>6034</td>\n",
       "      <td>11335</td>\n",
       "    </tr>\n",
       "    <tr>\n",
       "      <th>Rubygems</th>\n",
       "      <td>52</td>\n",
       "      <td>23</td>\n",
       "      <td>240</td>\n",
       "      <td>394</td>\n",
       "    </tr>\n",
       "  </tbody>\n",
       "</table>\n",
       "</div>"
      ],
      "text/plain": [
       "           vulnerabilities  required  source  dependencies\n",
       "ecosystem                                                 \n",
       "NPM                    227       127    6034         11335\n",
       "Rubygems                52        23     240           394"
      ]
     },
     "execution_count": 47,
     "metadata": {},
     "output_type": "execute_result"
    }
   ],
   "source": [
    "(\n",
    "    df_aff_dep_filter\n",
    "    .groupby('ecosystem')\n",
    "    .agg(\n",
    "        vulnerabilities=('id', 'nunique'),\n",
    "        required=('package', 'nunique'), \n",
    "        source=('source', 'nunique'),\n",
    "        dependencies=('source', 'count')\n",
    "    ) \n",
    ")"
   ]
  },
  {
   "cell_type": "code",
   "execution_count": 48,
   "metadata": {
    "scrolled": true
   },
   "outputs": [
    {
     "data": {
      "text/plain": [
       "11729"
      ]
     },
     "execution_count": 48,
     "metadata": {},
     "output_type": "execute_result"
    }
   ],
   "source": [
    "# Number of dependencies\n",
    "len(df_aff_dep_filter\n",
    "    [['ecosystem','source','package','major','id']]\n",
    "    .drop_duplicates()\n",
    "   )"
   ]
  },
  {
   "cell_type": "code",
   "execution_count": 49,
   "metadata": {},
   "outputs": [
    {
     "data": {
      "text/plain": [
       "575"
      ]
     },
     "execution_count": 49,
     "metadata": {},
     "output_type": "execute_result"
    }
   ],
   "source": [
    "len(df_aff_dep.query('affected')[['ecosystem','package','major']].drop_duplicates())"
   ]
  },
  {
   "cell_type": "code",
   "execution_count": 50,
   "metadata": {},
   "outputs": [
    {
     "data": {
      "text/plain": [
       "261"
      ]
     },
     "execution_count": 50,
     "metadata": {},
     "output_type": "execute_result"
    }
   ],
   "source": [
    "# Number of majors\n",
    "len(df_aff_dep_filter\n",
    "    [['ecosystem','package','major']]\n",
    "    .drop_duplicates()\n",
    "   )"
   ]
  },
  {
   "cell_type": "code",
   "execution_count": 51,
   "metadata": {},
   "outputs": [
    {
     "data": {
      "text/plain": [
       "438"
      ]
     },
     "execution_count": 51,
     "metadata": {},
     "output_type": "execute_result"
    }
   ],
   "source": [
    "# Number of majors with vulns\n",
    "len(df_aff_dep_filter\n",
    "    [['ecosystem','package','major','id']]\n",
    "    .drop_duplicates()\n",
    "   )"
   ]
  },
  {
   "cell_type": "code",
   "execution_count": 52,
   "metadata": {},
   "outputs": [
    {
     "data": {
      "text/plain": [
       "368"
      ]
     },
     "execution_count": 52,
     "metadata": {},
     "output_type": "execute_result"
    }
   ],
   "source": [
    "# Majors with no fix\n",
    "len(df_aff_dep_filter\n",
    "    .query('not fixed')\n",
    "    [['ecosystem','package','major','id']]\n",
    "    .drop_duplicates()\n",
    "   )"
   ]
  },
  {
   "cell_type": "markdown",
   "metadata": {},
   "source": [
    "### How many dependent packages benefit from a backport?\n",
    "\n",
    "These numbers can be compared with the above ones. "
   ]
  },
  {
   "cell_type": "code",
   "execution_count": 53,
   "metadata": {},
   "outputs": [
    {
     "data": {
      "text/plain": [
       "5585"
      ]
     },
     "execution_count": 53,
     "metadata": {},
     "output_type": "execute_result"
    }
   ],
   "source": [
    "# Number fixed dependencies\n",
    "len(\n",
    "    df_aff_dep_filter\n",
    "    .query('not fixed')\n",
    "    [['ecosystem','source','target']]\n",
    "    .drop_duplicates()\n",
    ")"
   ]
  },
  {
   "cell_type": "code",
   "execution_count": 54,
   "metadata": {},
   "outputs": [
    {
     "data": {
      "text/html": [
       "<div>\n",
       "<style scoped>\n",
       "    .dataframe tbody tr th:only-of-type {\n",
       "        vertical-align: middle;\n",
       "    }\n",
       "\n",
       "    .dataframe tbody tr th {\n",
       "        vertical-align: top;\n",
       "    }\n",
       "\n",
       "    .dataframe thead th {\n",
       "        text-align: right;\n",
       "    }\n",
       "</style>\n",
       "<table border=\"1\" class=\"dataframe\">\n",
       "  <thead>\n",
       "    <tr style=\"text-align: right;\">\n",
       "      <th></th>\n",
       "      <th>vulnerabilities</th>\n",
       "      <th>required</th>\n",
       "      <th>source</th>\n",
       "      <th>dependencies</th>\n",
       "    </tr>\n",
       "    <tr>\n",
       "      <th>ecosystem</th>\n",
       "      <th></th>\n",
       "      <th></th>\n",
       "      <th></th>\n",
       "      <th></th>\n",
       "    </tr>\n",
       "  </thead>\n",
       "  <tbody>\n",
       "    <tr>\n",
       "      <th>NPM</th>\n",
       "      <td>31</td>\n",
       "      <td>24</td>\n",
       "      <td>1938</td>\n",
       "      <td>3145</td>\n",
       "    </tr>\n",
       "    <tr>\n",
       "      <th>Rubygems</th>\n",
       "      <td>25</td>\n",
       "      <td>8</td>\n",
       "      <td>94</td>\n",
       "      <td>166</td>\n",
       "    </tr>\n",
       "  </tbody>\n",
       "</table>\n",
       "</div>"
      ],
      "text/plain": [
       "           vulnerabilities  required  source  dependencies\n",
       "ecosystem                                                 \n",
       "NPM                     31        24    1938          3145\n",
       "Rubygems                25         8      94           166"
      ]
     },
     "execution_count": 54,
     "metadata": {},
     "output_type": "execute_result"
    }
   ],
   "source": [
    "# Number of dependecies\n",
    "(\n",
    "    df_aff_dep_filter\n",
    "    .query('fixed')\n",
    "    .groupby('ecosystem')\n",
    "    .agg(\n",
    "        vulnerabilities=('id', 'nunique'),\n",
    "        required=('package', 'nunique'), \n",
    "        source=('source', 'nunique'),\n",
    "        dependencies=('source', 'count')\n",
    "    )\n",
    ")"
   ]
  },
  {
   "cell_type": "markdown",
   "metadata": {},
   "source": [
    "### How many dependent packages would benefit from a backport? \n",
    "\n",
    "These numbers can be compared with the ones above the above ones. "
   ]
  },
  {
   "cell_type": "code",
   "execution_count": 55,
   "metadata": {},
   "outputs": [
    {
     "data": {
      "text/html": [
       "<div>\n",
       "<style scoped>\n",
       "    .dataframe tbody tr th:only-of-type {\n",
       "        vertical-align: middle;\n",
       "    }\n",
       "\n",
       "    .dataframe tbody tr th {\n",
       "        vertical-align: top;\n",
       "    }\n",
       "\n",
       "    .dataframe thead th {\n",
       "        text-align: right;\n",
       "    }\n",
       "</style>\n",
       "<table border=\"1\" class=\"dataframe\">\n",
       "  <thead>\n",
       "    <tr style=\"text-align: right;\">\n",
       "      <th></th>\n",
       "      <th>vulnerabilities</th>\n",
       "      <th>required</th>\n",
       "      <th>source</th>\n",
       "      <th>dependencies</th>\n",
       "    </tr>\n",
       "    <tr>\n",
       "      <th>ecosystem</th>\n",
       "      <th></th>\n",
       "      <th></th>\n",
       "      <th></th>\n",
       "      <th></th>\n",
       "    </tr>\n",
       "  </thead>\n",
       "  <tbody>\n",
       "    <tr>\n",
       "      <th>NPM</th>\n",
       "      <td>205</td>\n",
       "      <td>117</td>\n",
       "      <td>4884</td>\n",
       "      <td>8190</td>\n",
       "    </tr>\n",
       "    <tr>\n",
       "      <th>Rubygems</th>\n",
       "      <td>29</td>\n",
       "      <td>18</td>\n",
       "      <td>166</td>\n",
       "      <td>228</td>\n",
       "    </tr>\n",
       "  </tbody>\n",
       "</table>\n",
       "</div>"
      ],
      "text/plain": [
       "           vulnerabilities  required  source  dependencies\n",
       "ecosystem                                                 \n",
       "NPM                    205       117    4884          8190\n",
       "Rubygems                29        18     166           228"
      ]
     },
     "execution_count": 55,
     "metadata": {},
     "output_type": "execute_result"
    }
   ],
   "source": [
    "(\n",
    "    df_aff_dep_filter\n",
    "    .query('not fixed')\n",
    "    .groupby('ecosystem')\n",
    "    .agg(\n",
    "        vulnerabilities=('id', 'nunique'),\n",
    "        required=('package', 'nunique'), \n",
    "        source=('source', 'nunique'),\n",
    "        dependencies=('source', 'count')\n",
    "    )\n",
    ")"
   ]
  },
  {
   "cell_type": "markdown",
   "metadata": {},
   "source": [
    "Putting everything together: "
   ]
  },
  {
   "cell_type": "code",
   "execution_count": 56,
   "metadata": {},
   "outputs": [
    {
     "data": {
      "text/html": [
       "<div>\n",
       "<style scoped>\n",
       "    .dataframe tbody tr th:only-of-type {\n",
       "        vertical-align: middle;\n",
       "    }\n",
       "\n",
       "    .dataframe tbody tr th {\n",
       "        vertical-align: top;\n",
       "    }\n",
       "\n",
       "    .dataframe thead th {\n",
       "        text-align: right;\n",
       "    }\n",
       "</style>\n",
       "<table border=\"1\" class=\"dataframe\">\n",
       "  <thead>\n",
       "    <tr style=\"text-align: right;\">\n",
       "      <th></th>\n",
       "      <th></th>\n",
       "      <th></th>\n",
       "      <th></th>\n",
       "      <th></th>\n",
       "      <th>vulnerabilities</th>\n",
       "      <th>required</th>\n",
       "      <th>source</th>\n",
       "      <th>cases</th>\n",
       "    </tr>\n",
       "    <tr>\n",
       "      <th>ecosystem</th>\n",
       "      <th>on_latest_major</th>\n",
       "      <th>affected</th>\n",
       "      <th>fixed</th>\n",
       "      <th>backported</th>\n",
       "      <th></th>\n",
       "      <th></th>\n",
       "      <th></th>\n",
       "      <th></th>\n",
       "    </tr>\n",
       "  </thead>\n",
       "  <tbody>\n",
       "    <tr>\n",
       "      <th rowspan=\"6\" valign=\"top\">NPM</th>\n",
       "      <th rowspan=\"4\" valign=\"top\">False</th>\n",
       "      <th>False</th>\n",
       "      <th>False</th>\n",
       "      <th>False</th>\n",
       "      <td>165</td>\n",
       "      <td>87</td>\n",
       "      <td>14221</td>\n",
       "      <td>36274</td>\n",
       "    </tr>\n",
       "    <tr>\n",
       "      <th rowspan=\"3\" valign=\"top\">True</th>\n",
       "      <th>False</th>\n",
       "      <th>False</th>\n",
       "      <td>205</td>\n",
       "      <td>117</td>\n",
       "      <td>4884</td>\n",
       "      <td>8190</td>\n",
       "    </tr>\n",
       "    <tr>\n",
       "      <th rowspan=\"2\" valign=\"top\">True</th>\n",
       "      <th>False</th>\n",
       "      <td>166</td>\n",
       "      <td>102</td>\n",
       "      <td>8787</td>\n",
       "      <td>17000</td>\n",
       "    </tr>\n",
       "    <tr>\n",
       "      <th>True</th>\n",
       "      <td>31</td>\n",
       "      <td>24</td>\n",
       "      <td>1938</td>\n",
       "      <td>3145</td>\n",
       "    </tr>\n",
       "    <tr>\n",
       "      <th rowspan=\"2\" valign=\"top\">True</th>\n",
       "      <th>False</th>\n",
       "      <th>False</th>\n",
       "      <th>False</th>\n",
       "      <td>263</td>\n",
       "      <td>149</td>\n",
       "      <td>40819</td>\n",
       "      <td>91435</td>\n",
       "    </tr>\n",
       "    <tr>\n",
       "      <th>True</th>\n",
       "      <th>True</th>\n",
       "      <th>False</th>\n",
       "      <td>276</td>\n",
       "      <td>163</td>\n",
       "      <td>88109</td>\n",
       "      <td>357670</td>\n",
       "    </tr>\n",
       "    <tr>\n",
       "      <th rowspan=\"7\" valign=\"top\">Rubygems</th>\n",
       "      <th rowspan=\"4\" valign=\"top\">False</th>\n",
       "      <th>False</th>\n",
       "      <th>False</th>\n",
       "      <th>False</th>\n",
       "      <td>130</td>\n",
       "      <td>27</td>\n",
       "      <td>1242</td>\n",
       "      <td>11806</td>\n",
       "    </tr>\n",
       "    <tr>\n",
       "      <th rowspan=\"3\" valign=\"top\">True</th>\n",
       "      <th>False</th>\n",
       "      <th>False</th>\n",
       "      <td>29</td>\n",
       "      <td>18</td>\n",
       "      <td>166</td>\n",
       "      <td>228</td>\n",
       "    </tr>\n",
       "    <tr>\n",
       "      <th rowspan=\"2\" valign=\"top\">True</th>\n",
       "      <th>False</th>\n",
       "      <td>115</td>\n",
       "      <td>33</td>\n",
       "      <td>538</td>\n",
       "      <td>1737</td>\n",
       "    </tr>\n",
       "    <tr>\n",
       "      <th>True</th>\n",
       "      <td>25</td>\n",
       "      <td>8</td>\n",
       "      <td>94</td>\n",
       "      <td>166</td>\n",
       "    </tr>\n",
       "    <tr>\n",
       "      <th rowspan=\"3\" valign=\"top\">True</th>\n",
       "      <th>False</th>\n",
       "      <th>False</th>\n",
       "      <th>False</th>\n",
       "      <td>204</td>\n",
       "      <td>60</td>\n",
       "      <td>4712</td>\n",
       "      <td>41709</td>\n",
       "    </tr>\n",
       "    <tr>\n",
       "      <th rowspan=\"2\" valign=\"top\">True</th>\n",
       "      <th>False</th>\n",
       "      <th>False</th>\n",
       "      <td>1</td>\n",
       "      <td>1</td>\n",
       "      <td>7</td>\n",
       "      <td>7</td>\n",
       "    </tr>\n",
       "    <tr>\n",
       "      <th>True</th>\n",
       "      <th>False</th>\n",
       "      <td>88</td>\n",
       "      <td>43</td>\n",
       "      <td>3203</td>\n",
       "      <td>19133</td>\n",
       "    </tr>\n",
       "  </tbody>\n",
       "</table>\n",
       "</div>"
      ],
      "text/plain": [
       "                                                     vulnerabilities  \\\n",
       "ecosystem on_latest_major affected fixed backported                    \n",
       "NPM       False           False    False False                   165   \n",
       "                          True     False False                   205   \n",
       "                                   True  False                   166   \n",
       "                                         True                     31   \n",
       "          True            False    False False                   263   \n",
       "                          True     True  False                   276   \n",
       "Rubygems  False           False    False False                   130   \n",
       "                          True     False False                    29   \n",
       "                                   True  False                   115   \n",
       "                                         True                     25   \n",
       "          True            False    False False                   204   \n",
       "                          True     False False                     1   \n",
       "                                   True  False                    88   \n",
       "\n",
       "                                                     required  source   cases  \n",
       "ecosystem on_latest_major affected fixed backported                            \n",
       "NPM       False           False    False False             87   14221   36274  \n",
       "                          True     False False            117    4884    8190  \n",
       "                                   True  False            102    8787   17000  \n",
       "                                         True              24    1938    3145  \n",
       "          True            False    False False            149   40819   91435  \n",
       "                          True     True  False            163   88109  357670  \n",
       "Rubygems  False           False    False False             27    1242   11806  \n",
       "                          True     False False             18     166     228  \n",
       "                                   True  False             33     538    1737  \n",
       "                                         True               8      94     166  \n",
       "          True            False    False False             60    4712   41709  \n",
       "                          True     False False              1       7       7  \n",
       "                                   True  False             43    3203   19133  "
      ]
     },
     "execution_count": 56,
     "metadata": {},
     "output_type": "execute_result"
    }
   ],
   "source": [
    "(\n",
    "    df_aff_dep\n",
    "    .eval('on_latest_major = major == latest_major')\n",
    "    [['ecosystem', 'id', 'package', 'source', 'backported', 'affected', 'fixed', 'on_latest_major']]\n",
    "    .groupby(['ecosystem', 'on_latest_major', 'affected', 'fixed', 'backported'])\n",
    "    .agg(\n",
    "        vulnerabilities=('id', 'nunique'),\n",
    "        required=('package', 'nunique'), \n",
    "        source=('source', 'nunique'),\n",
    "        cases=('source', 'count')\n",
    "    )\n",
    ")"
   ]
  },
  {
   "cell_type": "markdown",
   "metadata": {},
   "source": [
    "# Let's check just two examples, one with backport and the other one without"
   ]
  },
  {
   "cell_type": "code",
   "execution_count": 57,
   "metadata": {},
   "outputs": [],
   "source": [
    "example_both = df_aff_dep.query('id == \"SNYK-JS-BOOTSTRAP-11109\" or id == \"SNYK-JS-LODASH-450202\"')"
   ]
  },
  {
   "cell_type": "code",
   "execution_count": 58,
   "metadata": {},
   "outputs": [
    {
     "data": {
      "text/html": [
       "<div>\n",
       "<style scoped>\n",
       "    .dataframe tbody tr th:only-of-type {\n",
       "        vertical-align: middle;\n",
       "    }\n",
       "\n",
       "    .dataframe tbody tr th {\n",
       "        vertical-align: top;\n",
       "    }\n",
       "\n",
       "    .dataframe thead th {\n",
       "        text-align: right;\n",
       "    }\n",
       "</style>\n",
       "<table border=\"1\" class=\"dataframe\">\n",
       "  <thead>\n",
       "    <tr style=\"text-align: right;\">\n",
       "      <th></th>\n",
       "      <th>id</th>\n",
       "      <th>source</th>\n",
       "      <th>package</th>\n",
       "      <th>major</th>\n",
       "      <th>fixed</th>\n",
       "      <th>backported</th>\n",
       "    </tr>\n",
       "  </thead>\n",
       "  <tbody>\n",
       "    <tr>\n",
       "      <th>0</th>\n",
       "      <td>SNYK-JS-BOOTSTRAP-11109</td>\n",
       "      <td>2384</td>\n",
       "      <td>[bootstrap]</td>\n",
       "      <td>2</td>\n",
       "      <td>2384</td>\n",
       "      <td>373</td>\n",
       "    </tr>\n",
       "    <tr>\n",
       "      <th>1</th>\n",
       "      <td>SNYK-JS-LODASH-450202</td>\n",
       "      <td>26073</td>\n",
       "      <td>[lodash]</td>\n",
       "      <td>5</td>\n",
       "      <td>25672</td>\n",
       "      <td>0</td>\n",
       "    </tr>\n",
       "  </tbody>\n",
       "</table>\n",
       "</div>"
      ],
      "text/plain": [
       "                        id  source      package  major  fixed  backported\n",
       "0  SNYK-JS-BOOTSTRAP-11109    2384  [bootstrap]      2   2384         373\n",
       "1    SNYK-JS-LODASH-450202   26073     [lodash]      5  25672           0"
      ]
     },
     "execution_count": 58,
     "metadata": {},
     "output_type": "execute_result"
    }
   ],
   "source": [
    "(example_both[['id','source','package','major','fixed','backported']]\n",
    " .groupby('id')\n",
    " .agg({\n",
    "     'source':'nunique',\n",
    "     'package':'unique',\n",
    "     'major':'nunique',\n",
    "     'fixed':'sum',\n",
    "     'backported':'sum',\n",
    " })\n",
    " .reset_index()\n",
    ")"
   ]
  },
  {
   "cell_type": "code",
   "execution_count": null,
   "metadata": {},
   "outputs": [],
   "source": []
  }
 ],
 "metadata": {
  "kernelspec": {
   "display_name": "Python 3",
   "language": "python",
   "name": "python3"
  },
  "language_info": {
   "codemirror_mode": {
    "name": "ipython",
    "version": 3
   },
   "file_extension": ".py",
   "mimetype": "text/x-python",
   "name": "python",
   "nbconvert_exporter": "python",
   "pygments_lexer": "ipython3",
   "version": "3.6.9"
  }
 },
 "nbformat": 4,
 "nbformat_minor": 4
}
